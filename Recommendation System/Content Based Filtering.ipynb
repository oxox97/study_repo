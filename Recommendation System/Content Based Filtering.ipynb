{
 "cells": [
  {
   "cell_type": "markdown",
   "metadata": {},
   "source": [
    "# Content-Based Filtering"
   ]
  },
  {
   "cell_type": "markdown",
   "metadata": {},
   "source": [
    "## 1. 개요\n",
    "\n",
    "- Content-Based Filtering(콘텐츠 기반 필터링)은 **사용자가 선호하는 아이템의 콘텐츠 정보**(장르, 키워드, 설명 등)를 분석하여 유사한 아이템을 추천하는 방식\n",
    "\n",
    "✅ 장점\n",
    "\n",
    "- 사용자의 명시적 피드백 없이도 추천 가능\n",
    "- 새로운 사용자가 적은 경우에도 적용 가능\n",
    "    - cold start 문제 완화\n",
    "\n",
    "❌ 단점\n",
    "- 아이템의 콘텐츠 정보가 충분해야 추천 가능\n",
    "- 기존 선호도와 유사한 아이템만 추천 (새로운 취향 발견 어려움)\n",
    "\n",
    "## 2. 동작 원리\n",
    "\n",
    "- 아이템(예: 영화)의 특징(Feature) 을 추출 (예: 장르, 줄거리 등)\n",
    "- TF-IDF 벡터화를 통해 아이템을 수치화\n",
    "- 코사인 유사도(Cosine Similarity) 를 계산하여 유사한 아이템 찾기\n",
    "- 사용자가 좋아한 아이템과 유사한 아이템을 추천\n",
    "\n",
    "## 3. 사용 분야\n",
    "- 온라인 스트리밍 서비스: Netflix, YouTube, Spotify (영화/음악 추천)\n",
    "- 전자상거래: Amazon, eBay (상품 추천)\n",
    "- 뉴스 서비스: Google News, Flipboard (맞춤형 뉴스 추천)\n",
    "- 교육 플랫폼: Coursera, Udemy (맞춤형 강의 추천)\n",
    "\n",
    "## 4. 필요 수식\n",
    "🔹 TF-IDF 벡터화\n",
    "\n",
    "TF-IDF(Term Frequency-Inverse Document Frequency)는 다음과 같이 정의됩니다:\n",
    "\n",
    "$$\n",
    "TF_{t,d} = \\frac{f_{t,d}}{\\sum_{t' \\in d} f_{t',d}}\n",
    "$$\n",
    "\n",
    "$$\n",
    "IDF_t = \\log \\frac{N}{|\\{d \\in D : t \\in d\\}|}\n",
    "$$\n",
    "\n",
    "$$\n",
    "TFIDF_{t,d} = TF_{t,d} \\times IDF_t\n",
    "$$\n",
    "\n",
    "여기서:\n",
    "\n",
    "TF : 문서 d에서 단어 t의 빈도\n",
    "\n",
    "IDF : 전체 문서에서 단어 t의 희소성\n",
    "\n",
    "N : 전체 문서 개수\n",
    "\n",
    "🔹 코사인 유사도 (Cosine Similarity)\n",
    "\n",
    "두 벡터 의 유사도는 다음과 같이 정의됩니다:\n",
    "\n",
    "$$\n",
    "Sim(A,B) = \\frac{A \\cdot B}{||A|| \\times ||B||}\n",
    "$$\n",
    "\n",
    "이 공식은 두 벡터 간의 각도를 측정하여 얼마나 유사한지를 판단합니다.\n",
    "\n"
   ]
  },
  {
   "cell_type": "code",
   "execution_count": 47,
   "metadata": {},
   "outputs": [],
   "source": [
    "import pandas as pd\n",
    "from sklearn.metrics.pairwise import cosine_similarity\n",
    "from sklearn.feature_extraction.text import TfidfVectorizer"
   ]
  },
  {
   "cell_type": "code",
   "execution_count": 8,
   "metadata": {},
   "outputs": [],
   "source": [
    "# data set url\n",
    "\n",
    "# dataset_url = 'https://files.grouplens.org/datasets/movielens/ml-latest-small.zip'\n",
    "# dataset_path = 'ml-latest-small.zip'\n",
    "# extracted_folder = 'ml-latest-small'"
   ]
  },
  {
   "cell_type": "code",
   "execution_count": 18,
   "metadata": {},
   "outputs": [
    {
     "data": {
      "text/html": [
       "<div>\n",
       "<style scoped>\n",
       "    .dataframe tbody tr th:only-of-type {\n",
       "        vertical-align: middle;\n",
       "    }\n",
       "\n",
       "    .dataframe tbody tr th {\n",
       "        vertical-align: top;\n",
       "    }\n",
       "\n",
       "    .dataframe thead th {\n",
       "        text-align: right;\n",
       "    }\n",
       "</style>\n",
       "<table border=\"1\" class=\"dataframe\">\n",
       "  <thead>\n",
       "    <tr style=\"text-align: right;\">\n",
       "      <th></th>\n",
       "      <th>movieId</th>\n",
       "      <th>title</th>\n",
       "      <th>genres</th>\n",
       "    </tr>\n",
       "  </thead>\n",
       "  <tbody>\n",
       "    <tr>\n",
       "      <th>0</th>\n",
       "      <td>1</td>\n",
       "      <td>Toy Story (1995)</td>\n",
       "      <td>Adventure|Animation|Children|Comedy|Fantasy</td>\n",
       "    </tr>\n",
       "    <tr>\n",
       "      <th>1</th>\n",
       "      <td>2</td>\n",
       "      <td>Jumanji (1995)</td>\n",
       "      <td>Adventure|Children|Fantasy</td>\n",
       "    </tr>\n",
       "    <tr>\n",
       "      <th>2</th>\n",
       "      <td>3</td>\n",
       "      <td>Grumpier Old Men (1995)</td>\n",
       "      <td>Comedy|Romance</td>\n",
       "    </tr>\n",
       "    <tr>\n",
       "      <th>3</th>\n",
       "      <td>4</td>\n",
       "      <td>Waiting to Exhale (1995)</td>\n",
       "      <td>Comedy|Drama|Romance</td>\n",
       "    </tr>\n",
       "    <tr>\n",
       "      <th>4</th>\n",
       "      <td>5</td>\n",
       "      <td>Father of the Bride Part II (1995)</td>\n",
       "      <td>Comedy</td>\n",
       "    </tr>\n",
       "    <tr>\n",
       "      <th>...</th>\n",
       "      <td>...</td>\n",
       "      <td>...</td>\n",
       "      <td>...</td>\n",
       "    </tr>\n",
       "    <tr>\n",
       "      <th>9737</th>\n",
       "      <td>193581</td>\n",
       "      <td>Black Butler: Book of the Atlantic (2017)</td>\n",
       "      <td>Action|Animation|Comedy|Fantasy</td>\n",
       "    </tr>\n",
       "    <tr>\n",
       "      <th>9738</th>\n",
       "      <td>193583</td>\n",
       "      <td>No Game No Life: Zero (2017)</td>\n",
       "      <td>Animation|Comedy|Fantasy</td>\n",
       "    </tr>\n",
       "    <tr>\n",
       "      <th>9739</th>\n",
       "      <td>193585</td>\n",
       "      <td>Flint (2017)</td>\n",
       "      <td>Drama</td>\n",
       "    </tr>\n",
       "    <tr>\n",
       "      <th>9740</th>\n",
       "      <td>193587</td>\n",
       "      <td>Bungo Stray Dogs: Dead Apple (2018)</td>\n",
       "      <td>Action|Animation</td>\n",
       "    </tr>\n",
       "    <tr>\n",
       "      <th>9741</th>\n",
       "      <td>193609</td>\n",
       "      <td>Andrew Dice Clay: Dice Rules (1991)</td>\n",
       "      <td>Comedy</td>\n",
       "    </tr>\n",
       "  </tbody>\n",
       "</table>\n",
       "<p>9742 rows × 3 columns</p>\n",
       "</div>"
      ],
      "text/plain": [
       "      movieId                                      title  \\\n",
       "0           1                           Toy Story (1995)   \n",
       "1           2                             Jumanji (1995)   \n",
       "2           3                    Grumpier Old Men (1995)   \n",
       "3           4                   Waiting to Exhale (1995)   \n",
       "4           5         Father of the Bride Part II (1995)   \n",
       "...       ...                                        ...   \n",
       "9737   193581  Black Butler: Book of the Atlantic (2017)   \n",
       "9738   193583               No Game No Life: Zero (2017)   \n",
       "9739   193585                               Flint (2017)   \n",
       "9740   193587        Bungo Stray Dogs: Dead Apple (2018)   \n",
       "9741   193609        Andrew Dice Clay: Dice Rules (1991)   \n",
       "\n",
       "                                           genres  \n",
       "0     Adventure|Animation|Children|Comedy|Fantasy  \n",
       "1                      Adventure|Children|Fantasy  \n",
       "2                                  Comedy|Romance  \n",
       "3                            Comedy|Drama|Romance  \n",
       "4                                          Comedy  \n",
       "...                                           ...  \n",
       "9737              Action|Animation|Comedy|Fantasy  \n",
       "9738                     Animation|Comedy|Fantasy  \n",
       "9739                                        Drama  \n",
       "9740                             Action|Animation  \n",
       "9741                                       Comedy  \n",
       "\n",
       "[9742 rows x 3 columns]"
      ]
     },
     "execution_count": 18,
     "metadata": {},
     "output_type": "execute_result"
    }
   ],
   "source": [
    "# movies.csv 파일 읽기\n",
    "file_path = 'data/movies.csv'\n",
    "movies = pd.read_csv(file_path)\n",
    "movies"
   ]
  },
  {
   "cell_type": "code",
   "execution_count": 23,
   "metadata": {},
   "outputs": [
    {
     "data": {
      "text/plain": [
       "genres\n",
       "Drama                                        1053\n",
       "Comedy                                        946\n",
       "Comedy|Drama                                  435\n",
       "Comedy|Romance                                363\n",
       "Drama|Romance                                 349\n",
       "                                             ... \n",
       "Children|Drama|Musical                          1\n",
       "Adventure|Drama|Horror|Mystery|Thriller         1\n",
       "Adventure|Children|Comedy|Fantasy|Mystery       1\n",
       "Adventure|Animation|Children|Western            1\n",
       "Comedy|Mystery|Romance|Thriller                 1\n",
       "Name: count, Length: 951, dtype: int64"
      ]
     },
     "execution_count": 23,
     "metadata": {},
     "output_type": "execute_result"
    }
   ],
   "source": [
    "movies['genres'].value_counts(dropna=False)"
   ]
  },
  {
   "cell_type": "code",
   "execution_count": 31,
   "metadata": {},
   "outputs": [
    {
     "data": {
      "text/plain": [
       "<9742x23 sparse matrix of type '<class 'numpy.float64'>'\n",
       "\twith 23185 stored elements in Compressed Sparse Row format>"
      ]
     },
     "execution_count": 31,
     "metadata": {},
     "output_type": "execute_result"
    }
   ],
   "source": [
    "# TF-IDF 벡터화\n",
    "tfidf = TfidfVectorizer(stop_words=\"english\")  # 불용어 제거\n",
    "tfidf_matrix = tfidf.fit_transform(movies['genres'])  # TF-IDF 변환\n",
    "tfidf_matrix"
   ]
  },
  {
   "cell_type": "code",
   "execution_count": 33,
   "metadata": {},
   "outputs": [
    {
     "data": {
      "text/plain": [
       "array([[1.        , 0.81357774, 0.15276924, ..., 0.        , 0.4210373 ,\n",
       "        0.26758648],\n",
       "       [0.81357774, 1.        , 0.        , ..., 0.        , 0.        ,\n",
       "        0.        ],\n",
       "       [0.15276924, 0.        , 1.        , ..., 0.        , 0.        ,\n",
       "        0.57091541],\n",
       "       ...,\n",
       "       [0.        , 0.        , 0.        , ..., 1.        , 0.        ,\n",
       "        0.        ],\n",
       "       [0.4210373 , 0.        , 0.        , ..., 0.        , 1.        ,\n",
       "        0.        ],\n",
       "       [0.26758648, 0.        , 0.57091541, ..., 0.        , 0.        ,\n",
       "        1.        ]])"
      ]
     },
     "execution_count": 33,
     "metadata": {},
     "output_type": "execute_result"
    }
   ],
   "source": [
    "cosine_sim = cosine_similarity(tfidf_matrix, tfidf_matrix)\n",
    "cosine_sim"
   ]
  },
  {
   "cell_type": "code",
   "execution_count": 35,
   "metadata": {},
   "outputs": [],
   "source": [
    "indices = pd.Series(movies.index, index=movies['title']).drop_duplicates()\n"
   ]
  },
  {
   "cell_type": "code",
   "execution_count": 44,
   "metadata": {},
   "outputs": [],
   "source": [
    "def recommend_movies(title, cosine_sim=cosine_sim, num_movies=10):\n",
    "    if title not in indices:\n",
    "        print(f\"'{title}' 제목을 찾을 수 없습니다.\")\n",
    "        return []\n",
    "    \n",
    "    idx = indices[title]  # 입력 영화의 인덱스 찾기\n",
    "    sim_scores = list(enumerate(cosine_sim[idx]))  # 모든 영화와의 유사도 리스트\n",
    "    sim_scores = sorted(sim_scores, key=lambda x: x[1], reverse=True)  # 유사도 기준 정렬\n",
    "    sim_scores = sim_scores[1:num_movies+1]  # 자기 자신 제외하고 상위 num_movies개 선택\n",
    "\n",
    "    movie_indices = [i[0] for i in sim_scores]  # 영화 인덱스 가져오기\n",
    "    \n",
    "    return movies.iloc[movie_indices][['title']]  # 추천 영화 목록 반환"
   ]
  },
  {
   "cell_type": "code",
   "execution_count": 45,
   "metadata": {},
   "outputs": [
    {
     "name": "stdout",
     "output_type": "stream",
     "text": [
      "                                                  title\n",
      "1706                                        Antz (1998)\n",
      "2355                                 Toy Story 2 (1999)\n",
      "2809     Adventures of Rocky and Bullwinkle, The (2000)\n",
      "3000                   Emperor's New Groove, The (2000)\n",
      "3568                              Monsters, Inc. (2001)\n",
      "6194                                   Wild, The (2006)\n",
      "6486                             Shrek the Third (2007)\n",
      "6948                     Tale of Despereaux, The (2008)\n",
      "7760  Asterix and the Vikings (Astérix et les Viking...\n",
      "8219                                       Turbo (2013)\n"
     ]
    }
   ],
   "source": [
    "print(recommend_movies(\"Toy Story (1995)\"))\n"
   ]
  },
  {
   "cell_type": "code",
   "execution_count": null,
   "metadata": {},
   "outputs": [],
   "source": []
  }
 ],
 "metadata": {
  "kernelspec": {
   "display_name": "Python 3",
   "language": "python",
   "name": "python3"
  },
  "language_info": {
   "codemirror_mode": {
    "name": "ipython",
    "version": 3
   },
   "file_extension": ".py",
   "mimetype": "text/x-python",
   "name": "python",
   "nbconvert_exporter": "python",
   "pygments_lexer": "ipython3",
   "version": "3.9.6"
  }
 },
 "nbformat": 4,
 "nbformat_minor": 2
}
