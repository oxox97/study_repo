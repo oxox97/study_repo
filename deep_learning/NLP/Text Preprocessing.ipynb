{
 "cells": [
  {
   "cell_type": "markdown",
   "metadata": {},
   "source": [
    "# Text Preprocessing\n",
    "\n",
    "##### 배경\n",
    "- NLP(Natural Language Processing, 자연어 처리)는 \"컴퓨터가 사람 말을 이해하고, 대답하고, 쓸 수 있도록 만드는 기술\"\n",
    "- NLP 활용 예시 : 스팸 메일 필터링, 번역, 질의 응답, 요약, 텍스트 생성(GPT)\n",
    "- 순서 : 텍스트 전처리 -> 벡터화 -> 언어 모델 학습 -> 활용\n",
    "---\n",
    "- 텍스트 전처리 : 자연어 텍스트를 모델에 입력하기 전에, 불필요한 요소를 제거하고 일관되고 정제된 형태\n",
    "- 주요 전처리 기법\n",
    "    1. 소문자화 (\"Apple\" -> \"apple\")\n",
    "    2. 특수 문자 및 숫자 제거 (\"hi!😊3\" -> \"hi)\n",
    "    3. 토큰화 (\"I study NLP\" -> [\"I\", \"study\", \"NLP\"])\n",
    "    4. 불용어 제거 (\"This is a student.\" -> \"student\")\n",
    "    5. 표제어 추출 (\"Playing\" -> \"play\", \"went\" -> \"go\")"
   ]
  },
  {
   "cell_type": "code",
   "execution_count": 42,
   "metadata": {},
   "outputs": [],
   "source": [
    "# 자연어 텍스트\n",
    "text = \"I have 2 dogs, and they are playing!!! 🐶 We are happy\""
   ]
  },
  {
   "cell_type": "code",
   "execution_count": 43,
   "metadata": {},
   "outputs": [
    {
     "data": {
      "text/plain": [
       "'i have 2 dogs, and they are playing!!! 🐶 we are happy'"
      ]
     },
     "execution_count": 43,
     "metadata": {},
     "output_type": "execute_result"
    }
   ],
   "source": [
    "# 1. 소문자화\n",
    "text = text.lower()\n",
    "text"
   ]
  },
  {
   "cell_type": "code",
   "execution_count": 44,
   "metadata": {},
   "outputs": [
    {
     "data": {
      "text/plain": [
       "'i have  dogs and they are playing  we are happy'"
      ]
     },
     "execution_count": 44,
     "metadata": {},
     "output_type": "execute_result"
    }
   ],
   "source": [
    "# 2. 특수문자 및 숫자 제거\n",
    "import re\n",
    "text = re.sub(r'[^a-z\\s]', '', text)  # 소문자 알파벳과 공백 제외한 모든 문자 제거\n",
    "text"
   ]
  },
  {
   "cell_type": "code",
   "execution_count": 45,
   "metadata": {},
   "outputs": [
    {
     "name": "stdout",
     "output_type": "stream",
     "text": [
      "['i', 'have', 'dogs', 'and', 'they', 'are', 'playing', 'we', 'are', 'happy']\n"
     ]
    }
   ],
   "source": [
    "# 3. 토큰화\n",
    "from nltk.tokenize import word_tokenize\n",
    "tokens = word_tokenize(text)\n",
    "print(tokens)\n"
   ]
  },
  {
   "cell_type": "code",
   "execution_count": 46,
   "metadata": {},
   "outputs": [
    {
     "data": {
      "text/plain": [
       "['dogs', 'playing', 'happy']"
      ]
     },
     "execution_count": 46,
     "metadata": {},
     "output_type": "execute_result"
    }
   ],
   "source": [
    "# 4. 불용어 제거\n",
    "from nltk.corpus import stopwords\n",
    "stop_words = set(stopwords.words('english'))\n",
    "filtered = [w for w in tokens if w not in stop_words]\n",
    "filtered"
   ]
  },
  {
   "cell_type": "code",
   "execution_count": 66,
   "metadata": {},
   "outputs": [
    {
     "data": {
      "text/plain": [
       "['dog', 'play', 'happy']"
      ]
     },
     "execution_count": 66,
     "metadata": {},
     "output_type": "execute_result"
    }
   ],
   "source": [
    "# 5. 표제어 추출\n",
    "from nltk.stem import WordNetLemmatizer\n",
    "lemmatizer = WordNetLemmatizer()\n",
    "lemmatized = [lemmatizer.lemmatize(w, pos=\"v\") for w in filtered]  # pos=\"verb\"\n",
    "lemmatized"
   ]
  },
  {
   "cell_type": "code",
   "execution_count": 68,
   "metadata": {},
   "outputs": [
    {
     "data": {
      "text/plain": [
       "'I have 2 dogs, and they are playing!!! 🐶 We are happy'"
      ]
     },
     "execution_count": 68,
     "metadata": {},
     "output_type": "execute_result"
    }
   ],
   "source": [
    "\"I have 2 dogs, and they are playing!!! 🐶 We are happy\""
   ]
  },
  {
   "cell_type": "code",
   "execution_count": null,
   "metadata": {},
   "outputs": [],
   "source": []
  }
 ],
 "metadata": {
  "kernelspec": {
   "display_name": "Python 3",
   "language": "python",
   "name": "python3"
  },
  "language_info": {
   "codemirror_mode": {
    "name": "ipython",
    "version": 3
   },
   "file_extension": ".py",
   "mimetype": "text/x-python",
   "name": "python",
   "nbconvert_exporter": "python",
   "pygments_lexer": "ipython3",
   "version": "3.9.6"
  }
 },
 "nbformat": 4,
 "nbformat_minor": 2
}
